{
 "cells": [
  {
   "cell_type": "code",
   "execution_count": 56,
   "metadata": {},
   "outputs": [],
   "source": [
    "class SoccerPlayer(object):\n",
    "    def __init__(self, name : str, position : str, back_number : int):\n",
    "        self.name = name\n",
    "        self.position = position\n",
    "        self.back_number = back_number\n",
    "\n",
    "    def __str__(self):\n",
    "        return \"Hello, My name is %s. My back number is %d\" % \\\n",
    "            (self.name, self.back_number)\n",
    "\n",
    "    def __add__(self, other):\n",
    "        return self.name + other.name\n",
    "\n",
    "    def change_back_number(self, new_number):\n",
    "        print(\"선수의 등번호를 변경합니다 : From %d to %d\" % \\\n",
    "            (self.back_number, new_number))\n",
    "        self.back_number = new_number\n",
    "        \n"
   ]
  },
  {
   "cell_type": "code",
   "execution_count": 57,
   "metadata": {},
   "outputs": [],
   "source": [
    "son = SoccerPlayer(\"son\", \"FW\", 7)\n",
    "kane = SoccerPlayer(\"kane\", \"FW\", 10)\n",
    "dele = SoccerPlayer(\"dele\", \"MF\", 20)"
   ]
  },
  {
   "cell_type": "code",
   "execution_count": 58,
   "metadata": {},
   "outputs": [
    {
     "name": "stdout",
     "output_type": "stream",
     "text": [
      "Hello, My name is son. My back number is 7\n",
      "Hello, My name is kane. My back number is 10\n",
      "Hello, My name is dele. My back number is 20\n"
     ]
    }
   ],
   "source": [
    "print(son)\n",
    "print(kane)\n",
    "print(dele)"
   ]
  },
  {
   "cell_type": "code",
   "execution_count": 59,
   "metadata": {},
   "outputs": [
    {
     "data": {
      "text/plain": [
       "'sonkane'"
      ]
     },
     "execution_count": 59,
     "metadata": {},
     "output_type": "execute_result"
    }
   ],
   "source": [
    "son + kane"
   ]
  },
  {
   "cell_type": "code",
   "execution_count": 60,
   "metadata": {},
   "outputs": [
    {
     "name": "stdout",
     "output_type": "stream",
     "text": [
      "선수의 등번호를 변경합니다 : From 10 to 11\n",
      "Hello, My name is kane. My back number is 11\n"
     ]
    }
   ],
   "source": [
    "kane.change_back_number(11)\n",
    "print(kane)"
   ]
  }
 ],
 "metadata": {
  "interpreter": {
   "hash": "ee5cc6fef2d70a7e71ee3826687cbd150f18158e0b1eef11d4f4f92bb920e304"
  },
  "kernelspec": {
   "display_name": "Python 3.9.5 64-bit",
   "name": "python3"
  },
  "language_info": {
   "codemirror_mode": {
    "name": "ipython",
    "version": 3
   },
   "file_extension": ".py",
   "mimetype": "text/x-python",
   "name": "python",
   "nbconvert_exporter": "python",
   "pygments_lexer": "ipython3",
   "version": "3.9.5"
  },
  "orig_nbformat": 4
 },
 "nbformat": 4,
 "nbformat_minor": 2
}
